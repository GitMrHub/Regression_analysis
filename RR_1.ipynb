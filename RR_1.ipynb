{
 "cells": [
  {
   "cell_type": "code",
   "execution_count": 28571,
   "metadata": {},
   "outputs": [],
   "source": [
    "import pandas as pd\n",
    "import matplotlib.pyplot as plt\n",
    "import numpy as np"
   ]
  },
  {
   "cell_type": "code",
   "execution_count": 28572,
   "metadata": {},
   "outputs": [
    {
     "data": {
      "text/html": [
       "<div>\n",
       "<style scoped>\n",
       "    .dataframe tbody tr th:only-of-type {\n",
       "        vertical-align: middle;\n",
       "    }\n",
       "\n",
       "    .dataframe tbody tr th {\n",
       "        vertical-align: top;\n",
       "    }\n",
       "\n",
       "    .dataframe thead th {\n",
       "        text-align: right;\n",
       "    }\n",
       "</style>\n",
       "<table border=\"1\" class=\"dataframe\">\n",
       "  <thead>\n",
       "    <tr style=\"text-align: right;\">\n",
       "      <th></th>\n",
       "      <th>x</th>\n",
       "      <th>y</th>\n",
       "    </tr>\n",
       "  </thead>\n",
       "  <tbody>\n",
       "    <tr>\n",
       "      <td>0</td>\n",
       "      <td>1</td>\n",
       "      <td>37</td>\n",
       "    </tr>\n",
       "    <tr>\n",
       "      <td>1</td>\n",
       "      <td>2</td>\n",
       "      <td>34</td>\n",
       "    </tr>\n",
       "    <tr>\n",
       "      <td>2</td>\n",
       "      <td>3</td>\n",
       "      <td>21</td>\n",
       "    </tr>\n",
       "    <tr>\n",
       "      <td>3</td>\n",
       "      <td>4</td>\n",
       "      <td>59</td>\n",
       "    </tr>\n",
       "    <tr>\n",
       "      <td>4</td>\n",
       "      <td>5</td>\n",
       "      <td>72</td>\n",
       "    </tr>\n",
       "    <tr>\n",
       "      <td>5</td>\n",
       "      <td>6</td>\n",
       "      <td>19</td>\n",
       "    </tr>\n",
       "    <tr>\n",
       "      <td>6</td>\n",
       "      <td>7</td>\n",
       "      <td>63</td>\n",
       "    </tr>\n",
       "    <tr>\n",
       "      <td>7</td>\n",
       "      <td>8</td>\n",
       "      <td>33</td>\n",
       "    </tr>\n",
       "    <tr>\n",
       "      <td>8</td>\n",
       "      <td>9</td>\n",
       "      <td>61</td>\n",
       "    </tr>\n",
       "    <tr>\n",
       "      <td>9</td>\n",
       "      <td>10</td>\n",
       "      <td>26</td>\n",
       "    </tr>\n",
       "    <tr>\n",
       "      <td>10</td>\n",
       "      <td>11</td>\n",
       "      <td>49</td>\n",
       "    </tr>\n",
       "    <tr>\n",
       "      <td>11</td>\n",
       "      <td>12</td>\n",
       "      <td>48</td>\n",
       "    </tr>\n",
       "    <tr>\n",
       "      <td>12</td>\n",
       "      <td>13</td>\n",
       "      <td>72</td>\n",
       "    </tr>\n",
       "    <tr>\n",
       "      <td>13</td>\n",
       "      <td>14</td>\n",
       "      <td>56</td>\n",
       "    </tr>\n",
       "    <tr>\n",
       "      <td>14</td>\n",
       "      <td>15</td>\n",
       "      <td>29</td>\n",
       "    </tr>\n",
       "    <tr>\n",
       "      <td>15</td>\n",
       "      <td>16</td>\n",
       "      <td>14</td>\n",
       "    </tr>\n",
       "    <tr>\n",
       "      <td>16</td>\n",
       "      <td>17</td>\n",
       "      <td>57</td>\n",
       "    </tr>\n",
       "    <tr>\n",
       "      <td>17</td>\n",
       "      <td>18</td>\n",
       "      <td>43</td>\n",
       "    </tr>\n",
       "    <tr>\n",
       "      <td>18</td>\n",
       "      <td>19</td>\n",
       "      <td>40</td>\n",
       "    </tr>\n",
       "    <tr>\n",
       "      <td>19</td>\n",
       "      <td>20</td>\n",
       "      <td>40</td>\n",
       "    </tr>\n",
       "    <tr>\n",
       "      <td>20</td>\n",
       "      <td>21</td>\n",
       "      <td>74</td>\n",
       "    </tr>\n",
       "    <tr>\n",
       "      <td>21</td>\n",
       "      <td>22</td>\n",
       "      <td>37</td>\n",
       "    </tr>\n",
       "    <tr>\n",
       "      <td>22</td>\n",
       "      <td>23</td>\n",
       "      <td>24</td>\n",
       "    </tr>\n",
       "    <tr>\n",
       "      <td>23</td>\n",
       "      <td>24</td>\n",
       "      <td>26</td>\n",
       "    </tr>\n",
       "    <tr>\n",
       "      <td>24</td>\n",
       "      <td>25</td>\n",
       "      <td>46</td>\n",
       "    </tr>\n",
       "  </tbody>\n",
       "</table>\n",
       "</div>"
      ],
      "text/plain": [
       "     x   y\n",
       "0    1  37\n",
       "1    2  34\n",
       "2    3  21\n",
       "3    4  59\n",
       "4    5  72\n",
       "5    6  19\n",
       "6    7  63\n",
       "7    8  33\n",
       "8    9  61\n",
       "9   10  26\n",
       "10  11  49\n",
       "11  12  48\n",
       "12  13  72\n",
       "13  14  56\n",
       "14  15  29\n",
       "15  16  14\n",
       "16  17  57\n",
       "17  18  43\n",
       "18  19  40\n",
       "19  20  40\n",
       "20  21  74\n",
       "21  22  37\n",
       "22  23  24\n",
       "23  24  26\n",
       "24  25  46"
      ]
     },
     "execution_count": 28572,
     "metadata": {},
     "output_type": "execute_result"
    }
   ],
   "source": [
    "df = pd.read_excel(\"first.xlsx\")\n",
    "df"
   ]
  },
  {
   "cell_type": "code",
   "execution_count": 28573,
   "metadata": {},
   "outputs": [
    {
     "data": {
      "text/plain": [
       "<matplotlib.axes._subplots.AxesSubplot at 0x20642627388>"
      ]
     },
     "execution_count": 28573,
     "metadata": {},
     "output_type": "execute_result"
    },
    {
     "data": {
      "image/png": "[encoded data removed]",
      "text/plain": [
       "<Figure size 432x288 with 1 Axes>"
      ]
     },
     "metadata": {
      "needs_background": "light"
     },
     "output_type": "display_data"
    }
   ],
   "source": [
    "df.plot.scatter(x ='x', y = 'y', alpha = 1)"
   ]
  },
  {
   "cell_type": "code",
   "execution_count": 28574,
   "metadata": {},
   "outputs": [
    {
     "data": {
      "text/plain": [
       "<matplotlib.axes._subplots.AxesSubplot at 0x20642670408>"
      ]
     },
     "execution_count": 28574,
     "metadata": {},
     "output_type": "execute_result"
    },
    {
     "data": {
      "image/png": "[encoded data removed]",
      "text/plain": [
       "<Figure size 432x288 with 1 Axes>"
      ]
     },
     "metadata": {
      "needs_background": "light"
     },
     "output_type": "display_data"
    }
   ],
   "source": [
    "df.plot(x ='x', y = 'y', alpha = 1)"
   ]
  },
  {
   "cell_type": "code",
   "execution_count": 28575,
   "metadata": {},
   "outputs": [],
   "source": [
    "x = np.array(df['x'])\n",
    "y = np.array(df['y'])"
   ]
  },
  {
   "cell_type": "code",
   "execution_count": 28576,
   "metadata": {},
   "outputs": [
    {
     "data": {
      "text/plain": [
       "array([ 1,  2,  3,  4,  5,  6,  7,  8,  9, 10, 11, 12, 13, 14, 15, 16, 17,\n",
       "       18, 19, 20, 21, 22, 23, 24, 25], dtype=int64)"
      ]
     },
     "execution_count": 28576,
     "metadata": {},
     "output_type": "execute_result"
    }
   ],
   "source": [
    "x"
   ]
  },
  {
   "cell_type": "code",
   "execution_count": 28577,
   "metadata": {},
   "outputs": [
    {
     "data": {
      "text/plain": [
       "array([37, 34, 21, 59, 72, 19, 63, 33, 61, 26, 49, 48, 72, 56, 29, 14, 57,\n",
       "       43, 40, 40, 74, 37, 24, 26, 46], dtype=int64)"
      ]
     },
     "execution_count": 28577,
     "metadata": {},
     "output_type": "execute_result"
    }
   ],
   "source": [
    "y"
   ]
  },
  {
   "cell_type": "code",
   "execution_count": 28578,
   "metadata": {},
   "outputs": [
    {
     "data": {
      "text/plain": [
       "[[1, 1.0, -1.0, 0.5403023058681398, 0.9092974268256817, 0.7080734182735712]]"
      ]
     },
     "execution_count": 28578,
     "metadata": {},
     "output_type": "execute_result"
    }
   ],
   "source": [
    "F = [[x[0], np.sin(np.pi/2*x[0]), np.cos(np.pi*x[0]), np.cos(x[0]**0.5), np.sin(2*x[0]**3)  , np.sin(x[0])**2         ]]\n",
    "F"
   ]
  },
  {
   "cell_type": "code",
   "execution_count": 28579,
   "metadata": {},
   "outputs": [],
   "source": [
    "for i in range(2, x.size+1):\n",
    "    F.append([1, np.sin(np.pi/2*i)*i**0.3, np.cos(np.pi*i)*i**0.3, np.cos(i**0.5), np.sin(2*i**3) , np.sin(i)**2      ])"
   ]
  },
  {
   "cell_type": "code",
   "execution_count": 28580,
   "metadata": {},
   "outputs": [
    {
     "data": {
      "text/plain": [
       "array([[ 1.00000000e+00,  1.00000000e+00, -1.00000000e+00,\n",
       "         5.40302306e-01,  9.09297427e-01,  7.08073418e-01],\n",
       "       [ 1.00000000e+00,  1.50771707e-16,  1.23114441e+00,\n",
       "         1.55943695e-01, -2.87903317e-01,  8.26821810e-01],\n",
       "       [ 1.00000000e+00, -1.39038917e+00, -1.39038917e+00,\n",
       "        -1.60556539e-01, -5.58789049e-01,  1.99148567e-02],\n",
       "       [ 1.00000000e+00, -3.71243488e-16,  1.51571657e+00,\n",
       "        -4.16146837e-01,  7.21037711e-01,  5.72750017e-01],\n",
       "       [ 1.00000000e+00,  1.62065660e+00, -1.62065660e+00,\n",
       "        -6.17272876e-01, -9.70528020e-01,  9.19535765e-01],\n",
       "       [ 1.00000000e+00,  6.28894044e-16,  1.71176986e+00,\n",
       "        -7.69905730e-01, -9.99519224e-01,  7.80730206e-02],\n",
       "       [ 1.00000000e+00, -1.79278996e+00, -1.79278996e+00,\n",
       "        -8.79568734e-01,  9.05603934e-01,  4.31631391e-01],\n",
       "       [ 1.00000000e+00, -9.14108693e-16,  1.86606598e+00,\n",
       "        -9.51363128e-01, -1.58533380e-01,  9.78829740e-01],\n",
       "       [ 1.00000000e+00,  1.93318204e+00, -1.93318204e+00,\n",
       "        -9.89992497e-01,  2.96483737e-01,  1.69841646e-01],\n",
       "       [ 1.00000000e+00,  1.22174580e-15,  1.99526231e+00,\n",
       "        -9.99786073e-01,  9.30039504e-01,  2.95958969e-01],\n",
       "       [ 1.00000000e+00, -2.05313641e+00, -2.05313641e+00,\n",
       "        -9.84720943e-01, -8.77690929e-01,  9.99980413e-01],\n",
       "       [ 1.00000000e+00, -1.54851878e-15,  2.10743590e+00,\n",
       "        -9.48443196e-01,  2.45544212e-01,  2.87910496e-01],\n",
       "       [ 1.00000000e+00,  2.15865384e+00, -2.15865384e+00,\n",
       "        -8.94288059e-01,  8.85756977e-01,  1.76540339e-01],\n",
       "       [ 1.00000000e+00,  1.89211401e-15,  2.20718335e+00,\n",
       "        -8.25299062e-01,  3.54487410e-01,  9.81302933e-01],\n",
       "       [ 1.00000000e+00, -2.25334338e+00, -2.25334338e+00,\n",
       "        -7.44246271e-01,  9.58761652e-01,  4.22874275e-01],\n",
       "       [ 1.00000000e+00, -2.25079962e-15,  2.29739671e+00,\n",
       "        -6.53643621e-01, -9.56173153e-01,  8.28883197e-02],\n",
       "       [ 1.00000000e+00,  2.33956263e+00, -2.33956263e+00,\n",
       "        -5.55765390e-01, -7.84457208e-01,  9.24285137e-01],\n",
       "       [ 1.00000000e+00,  2.62322240e-15,  2.38002627e+00,\n",
       "        -4.52661857e-01,  6.69490576e-01,  5.63981845e-01],\n",
       "       [ 1.00000000e+00, -2.41894548e+00, -2.41894548e+00,\n",
       "        -3.46174158e-01,  9.72356227e-01,  2.24631780e-02],\n",
       "       [ 1.00000000e+00, -3.00829104e-15,  2.45645605e+00,\n",
       "        -2.37948392e-01,  1.31007066e-01,  8.33469031e-01],\n",
       "       [ 1.00000000e+00,  2.49267575e+00, -2.49267575e+00,\n",
       "        -1.29449001e-01, -7.38124062e-01,  6.99992657e-01],\n",
       "       [ 1.00000000e+00,  1.23853244e-14,  2.52770743e+00,\n",
       "        -2.19714524e-02,  7.55619038e-01,  7.83456762e-05],\n",
       "       [ 1.00000000e+00, -2.56164150e+00, -2.56164150e+00,\n",
       "         8.33457463e-02, -7.00925804e-01,  7.16088972e-01],\n",
       "       [ 1.00000000e+00, -3.81290048e-15,  2.59455793e+00,\n",
       "         1.85509665e-01,  9.15578546e-01,  8.20072170e-01],\n",
       "       [ 1.00000000e+00,  2.62652780e+00, -2.62652780e+00,\n",
       "         2.83662185e-01, -5.46245002e-01,  1.75169858e-02]])"
      ]
     },
     "execution_count": 28580,
     "metadata": {},
     "output_type": "execute_result"
    }
   ],
   "source": [
    "F = np.array(F)\n",
    "F"
   ]
  },
  {
   "cell_type": "code",
   "execution_count": 28581,
   "metadata": {},
   "outputs": [
    {
     "data": {
      "text/plain": [
       "(25, 6)"
      ]
     },
     "execution_count": 28581,
     "metadata": {},
     "output_type": "execute_result"
    }
   ],
   "source": [
    "np.shape(F)"
   ]
  },
  {
   "cell_type": "code",
   "execution_count": 28582,
   "metadata": {
    "scrolled": true
   },
   "outputs": [
    {
     "data": {
      "text/plain": [
       "array([[ 1.,  1.,  1.,  1.,  1.,  1.,  1.,  1.,  1.,  1.,  1.,  1.,  1.,\n",
       "         1.,  1.,  1.,  1.,  1.,  1.,  1.,  1.,  1.,  1.,  1.,  1.],\n",
       "       [ 1.,  0., -1., -0.,  2.,  0., -2., -0.,  2.,  0., -2., -0.,  2.,\n",
       "         0., -2., -0.,  2.,  0., -2., -0.,  2.,  0., -3., -0.,  3.],\n",
       "       [-1.,  1., -1.,  2., -2.,  2., -2.,  2., -2.,  2., -2.,  2., -2.,\n",
       "         2., -2.,  2., -2.,  2., -2.,  2., -2.,  3., -3.,  3., -3.],\n",
       "       [ 1.,  0., -0., -0., -1., -1., -1., -1., -1., -1., -1., -1., -1.,\n",
       "        -1., -1., -1., -1., -0., -0., -0., -0., -0.,  0.,  0.,  0.],\n",
       "       [ 1., -0., -1.,  1., -1., -1.,  1., -0.,  0.,  1., -1.,  0.,  1.,\n",
       "         0.,  1., -1., -1.,  1.,  1.,  0., -1.,  1., -1.,  1., -1.],\n",
       "       [ 1.,  1.,  0.,  1.,  1.,  0.,  0.,  1.,  0.,  0.,  1.,  0.,  0.,\n",
       "         1.,  0.,  0.,  1.,  1.,  0.,  1.,  1.,  0.,  1.,  1.,  0.]])"
      ]
     },
     "execution_count": 28582,
     "metadata": {},
     "output_type": "execute_result"
    }
   ],
   "source": [
    "Ft = F.T\n",
    "Ft.round()"
   ]
  },
  {
   "cell_type": "code",
   "execution_count": 28583,
   "metadata": {},
   "outputs": [
    {
     "data": {
      "text/plain": [
       "(6, 25)"
      ]
     },
     "execution_count": 28583,
     "metadata": {},
     "output_type": "execute_result"
    }
   ],
   "source": [
    "np.shape(Ft)"
   ]
  },
  {
   "cell_type": "code",
   "execution_count": 28584,
   "metadata": {},
   "outputs": [
    {
     "name": "stdout",
     "output_type": "stream",
     "text": [
      "A = F^t F = \n",
      " [[ 2.50000000e+01  1.70101276e+00 -1.75078180e+00 -1.13304402e+01\n",
      "   2.07217487e+00  1.25508757e+01]\n",
      " [ 1.70101276e+00  5.74626489e+01 -3.75563321e+00  9.40546560e-01\n",
      "  -5.04989336e+00  1.16484456e+00]\n",
      " [-1.75078180e+00 -3.75563321e+00  1.11079905e+02 -7.79885479e-01\n",
      "   7.41796681e+00  3.60246277e-01]\n",
      " [-1.13304402e+01  9.40546560e-01 -7.79885479e-01  1.03079128e+01\n",
      "  -1.00567145e+00 -5.57598335e+00]\n",
      " [ 2.07217487e+00 -5.04989336e+00  7.41796681e+00 -1.00567145e+00\n",
      "   1.38252747e+01 -7.17934059e-02]\n",
      " [ 1.25508757e+01  1.16484456e+00  3.60246277e-01 -5.57598335e+00\n",
      "  -7.17934059e-02  9.43175454e+00]]\n"
     ]
    }
   ],
   "source": [
    "A = np.dot(Ft, F)\n",
    "print(\"A = F^t F = \\n\", A)"
   ]
  },
  {
   "cell_type": "code",
   "execution_count": 28585,
   "metadata": {
    "scrolled": true
   },
   "outputs": [
    {
     "name": "stdout",
     "output_type": "stream",
     "text": [
      "Відповідно A^-1 = \n",
      " [[ 1.72973394e-01 -4.94888052e-03  5.43519068e-03  9.43703369e-02\n",
      "  -2.46895049e-02 -1.74169717e-01]\n",
      " [-4.94888052e-03  1.82427299e-02  2.93347776e-05 -5.95614435e-03\n",
      "   6.96067352e-03  8.63109913e-04]\n",
      " [ 5.43519068e-03  2.93347776e-05  9.51122979e-03  2.93787638e-03\n",
      "  -5.72415441e-03 -5.90625688e-03]\n",
      " [ 9.43703369e-02 -5.95614435e-03  2.93787638e-03  1.96331169e-01\n",
      "  -3.66127378e-03 -8.91395927e-03]\n",
      " [-2.46895049e-02  6.96067352e-03 -5.72415441e-03 -3.66127378e-03\n",
      "   8.15385646e-02  3.06695471e-02]\n",
      " [-1.74169717e-01  8.63109913e-04 -5.90625688e-03 -8.91395927e-03\n",
      "   3.06695471e-02  3.32875772e-01]]\n"
     ]
    }
   ],
   "source": [
    "A1 = np.linalg.inv(A) \n",
    "print('Відповідно A^-1 = \\n', A1)"
   ]
  },
  {
   "cell_type": "code",
   "execution_count": 28586,
   "metadata": {},
   "outputs": [
    {
     "data": {
      "text/plain": [
       "array([37, 34, 21, 59, 72, 19, 63, 33, 61, 26, 49, 48, 72, 56, 29, 14, 57,\n",
       "       43, 40, 40, 74, 37, 24, 26, 46], dtype=int64)"
      ]
     },
     "execution_count": 28586,
     "metadata": {},
     "output_type": "execute_result"
    }
   ],
   "source": [
    "y"
   ]
  },
  {
   "cell_type": "code",
   "execution_count": 28587,
   "metadata": {},
   "outputs": [
    {
     "data": {
      "text/plain": [
       "(25,)"
      ]
     },
     "execution_count": 28587,
     "metadata": {},
     "output_type": "execute_result"
    }
   ],
   "source": [
    "np.shape(y.T)"
   ]
  },
  {
   "cell_type": "code",
   "execution_count": 28588,
   "metadata": {},
   "outputs": [],
   "source": [
    "b = np.dot(A1, Ft)"
   ]
  },
  {
   "cell_type": "code",
   "execution_count": 28589,
   "metadata": {},
   "outputs": [
    {
     "data": {
      "text/plain": [
       "array([ 28.24302951,   6.38112956,  -3.89483757, -12.35780128,\n",
       "         7.33569262,  16.01726496])"
      ]
     },
     "execution_count": 28589,
     "metadata": {},
     "output_type": "execute_result"
    }
   ],
   "source": [
    "B = np.dot(b, y)\n",
    "B"
   ]
  },
  {
   "cell_type": "code",
   "execution_count": 28590,
   "metadata": {},
   "outputs": [
    {
     "data": {
      "text/plain": [
       "43.2"
      ]
     },
     "execution_count": 28590,
     "metadata": {},
     "output_type": "execute_result"
    }
   ],
   "source": [
    "y_n = y.sum()/x.size\n",
    "y_n"
   ]
  },
  {
   "cell_type": "code",
   "execution_count": 28591,
   "metadata": {},
   "outputs": [
    {
     "data": {
      "text/plain": [
       "306.8333333333333"
      ]
     },
     "execution_count": 28591,
     "metadata": {},
     "output_type": "execute_result"
    }
   ],
   "source": [
    "summ = 0\n",
    "for i in y:\n",
    "    summ += (i - y_n)**2\n",
    "D = summ/(x.size-1)\n",
    "D"
   ]
  },
  {
   "cell_type": "code",
   "execution_count": 28592,
   "metadata": {},
   "outputs": [
    {
     "data": {
      "text/plain": [
       "134.8091103566935"
      ]
     },
     "execution_count": 28592,
     "metadata": {},
     "output_type": "execute_result"
    }
   ],
   "source": [
    "summa = 0\n",
    "for j in range(0, x.size):\n",
    "    summa += (y[j] - (B[0]+B[1]*np.sin(np.pi/2*x[j])*x[j]**0.3+B[2]*np.cos(np.pi*x[j])*x[j]**0.3+B[3]*np.cos(x[j]**0.5)+B[4]*np.sin(2*x[j]**3)+B[5]*np.sin(x[j])**2             ))**2\n",
    "G = summa/(x.size - B.size)\n",
    "G"
   ]
  },
  {
   "cell_type": "code",
   "execution_count": 28593,
   "metadata": {},
   "outputs": [
    {
     "data": {
      "text/plain": [
       "7364.0"
      ]
     },
     "execution_count": 28593,
     "metadata": {},
     "output_type": "execute_result"
    }
   ],
   "source": [
    "summ2 = 0\n",
    "for i in df['y']:\n",
    "    summ2 += (i - y_n)**2\n",
    "summ2"
   ]
  },
  {
   "cell_type": "code",
   "execution_count": 28594,
   "metadata": {},
   "outputs": [],
   "source": [
    "s1 = y - np.dot(F, B)"
   ]
  },
  {
   "cell_type": "code",
   "execution_count": 28595,
   "metadata": {},
   "outputs": [
    {
     "data": {
      "text/plain": [
       "2561.373096777177"
      ]
     },
     "execution_count": 28595,
     "metadata": {},
     "output_type": "execute_result"
    }
   ],
   "source": [
    "s = np.dot(s1.T, s1)\n",
    "s"
   ]
  },
  {
   "cell_type": "code",
   "execution_count": 28596,
   "metadata": {},
   "outputs": [
    {
     "data": {
      "text/plain": [
       "2.8750204369936116"
      ]
     },
     "execution_count": 28596,
     "metadata": {},
     "output_type": "execute_result"
    }
   ],
   "source": [
    "z = summ2/s\n",
    "z"
   ]
  },
  {
   "cell_type": "code",
   "execution_count": 28597,
   "metadata": {},
   "outputs": [
    {
     "data": {
      "text/plain": [
       "2.11"
      ]
     },
     "execution_count": 28597,
     "metadata": {},
     "output_type": "execute_result"
    }
   ],
   "source": [
    "2.11"
   ]
  },
  {
   "cell_type": "code",
   "execution_count": 28598,
   "metadata": {},
   "outputs": [
    {
     "data": {
      "text/plain": [
       "2.875020436993612"
      ]
     },
     "execution_count": 28598,
     "metadata": {},
     "output_type": "execute_result"
    }
   ],
   "source": [
    "zz = summ2/summa\n",
    "zz"
   ]
  },
  {
   "cell_type": "code",
   "execution_count": 28599,
   "metadata": {},
   "outputs": [
    {
     "data": {
      "text/plain": [
       "2.2760578459532765"
      ]
     },
     "execution_count": 28599,
     "metadata": {},
     "output_type": "execute_result"
    }
   ],
   "source": [
    "zz*(x.size - B.size)/(x.size - 1)\n"
   ]
  },
  {
   "cell_type": "code",
   "execution_count": 28600,
   "metadata": {},
   "outputs": [
    {
     "data": {
      "text/plain": [
       "2.2760578459532756"
      ]
     },
     "execution_count": 28600,
     "metadata": {},
     "output_type": "execute_result"
    }
   ],
   "source": [
    "z*(x.size - B.size)/(x.size - 1)"
   ]
  },
  {
   "cell_type": "code",
   "execution_count": 28601,
   "metadata": {
    "scrolled": true
   },
   "outputs": [
    {
     "data": {
      "text/plain": [
       "[41.1337414621166,\n",
       " 30.82809082179172,\n",
       " 21.5802117938965,\n",
       " 30.01306385621781,\n",
       " 60.005530660075465,\n",
       " 25.06543739694575,\n",
       " 34.845399826828455,\n",
       " 42.774257338741535,\n",
       " 58.963769142915694,\n",
       " 35.331420689196094,\n",
       " 51.129498770390896,\n",
       " 38.22909039946192,\n",
       " 68.07480092670922,\n",
       " 50.94153859704709,\n",
       " 45.1691814937348,\n",
       " 35.91558200383671,\n",
       " 81.25459998803076,\n",
       " 40.39942134475182,\n",
       " 32.624949725425616,\n",
       " 39.225130610108735,\n",
       " 69.09006773697976,\n",
       " 19.06019825977679,\n",
       " 30.640936145637912,\n",
       " 25.378485951853243,\n",
       " 46.764162429821795]"
      ]
     },
     "execution_count": 28601,
     "metadata": {},
     "output_type": "execute_result"
    }
   ],
   "source": [
    "yfunc =[]\n",
    "for j in range (0, x.size):\n",
    "    yfunc.append(B[0] + B[1]*np.sin(np.pi/2*x[j])*x[j]**0.3 + B[2]*np.cos(np.pi*x[j])*x[j]**0.3 + B[3]*np.cos(x[j]**0.5) + B[4]*np.sin(2*x[j]*3)  +B[5]*np.sin(x[j])**2                )\n",
    "yfunc"
   ]
  },
  {
   "cell_type": "code",
   "execution_count": 28602,
   "metadata": {},
   "outputs": [],
   "source": [
    "d = {'y':y, 'func': yfunc}"
   ]
  },
  {
   "cell_type": "code",
   "execution_count": 28603,
   "metadata": {},
   "outputs": [
    {
     "data": {
      "text/html": [
       "<div>\n",
       "<style scoped>\n",
       "    .dataframe tbody tr th:only-of-type {\n",
       "        vertical-align: middle;\n",
       "    }\n",
       "\n",
       "    .dataframe tbody tr th {\n",
       "        vertical-align: top;\n",
       "    }\n",
       "\n",
       "    .dataframe thead th {\n",
       "        text-align: right;\n",
       "    }\n",
       "</style>\n",
       "<table border=\"1\" class=\"dataframe\">\n",
       "  <thead>\n",
       "    <tr style=\"text-align: right;\">\n",
       "      <th></th>\n",
       "      <th>y</th>\n",
       "      <th>func</th>\n",
       "    </tr>\n",
       "  </thead>\n",
       "  <tbody>\n",
       "    <tr>\n",
       "      <td>0</td>\n",
       "      <td>37</td>\n",
       "      <td>41.133741</td>\n",
       "    </tr>\n",
       "    <tr>\n",
       "      <td>1</td>\n",
       "      <td>34</td>\n",
       "      <td>30.828091</td>\n",
       "    </tr>\n",
       "    <tr>\n",
       "      <td>2</td>\n",
       "      <td>21</td>\n",
       "      <td>21.580212</td>\n",
       "    </tr>\n",
       "    <tr>\n",
       "      <td>3</td>\n",
       "      <td>59</td>\n",
       "      <td>30.013064</td>\n",
       "    </tr>\n",
       "    <tr>\n",
       "      <td>4</td>\n",
       "      <td>72</td>\n",
       "      <td>60.005531</td>\n",
       "    </tr>\n",
       "    <tr>\n",
       "      <td>5</td>\n",
       "      <td>19</td>\n",
       "      <td>25.065437</td>\n",
       "    </tr>\n",
       "    <tr>\n",
       "      <td>6</td>\n",
       "      <td>63</td>\n",
       "      <td>34.845400</td>\n",
       "    </tr>\n",
       "    <tr>\n",
       "      <td>7</td>\n",
       "      <td>33</td>\n",
       "      <td>42.774257</td>\n",
       "    </tr>\n",
       "    <tr>\n",
       "      <td>8</td>\n",
       "      <td>61</td>\n",
       "      <td>58.963769</td>\n",
       "    </tr>\n",
       "    <tr>\n",
       "      <td>9</td>\n",
       "      <td>26</td>\n",
       "      <td>35.331421</td>\n",
       "    </tr>\n",
       "    <tr>\n",
       "      <td>10</td>\n",
       "      <td>49</td>\n",
       "      <td>51.129499</td>\n",
       "    </tr>\n",
       "    <tr>\n",
       "      <td>11</td>\n",
       "      <td>48</td>\n",
       "      <td>38.229090</td>\n",
       "    </tr>\n",
       "    <tr>\n",
       "      <td>12</td>\n",
       "      <td>72</td>\n",
       "      <td>68.074801</td>\n",
       "    </tr>\n",
       "    <tr>\n",
       "      <td>13</td>\n",
       "      <td>56</td>\n",
       "      <td>50.941539</td>\n",
       "    </tr>\n",
       "    <tr>\n",
       "      <td>14</td>\n",
       "      <td>29</td>\n",
       "      <td>45.169181</td>\n",
       "    </tr>\n",
       "    <tr>\n",
       "      <td>15</td>\n",
       "      <td>14</td>\n",
       "      <td>35.915582</td>\n",
       "    </tr>\n",
       "    <tr>\n",
       "      <td>16</td>\n",
       "      <td>57</td>\n",
       "      <td>81.254600</td>\n",
       "    </tr>\n",
       "    <tr>\n",
       "      <td>17</td>\n",
       "      <td>43</td>\n",
       "      <td>40.399421</td>\n",
       "    </tr>\n",
       "    <tr>\n",
       "      <td>18</td>\n",
       "      <td>40</td>\n",
       "      <td>32.624950</td>\n",
       "    </tr>\n",
       "    <tr>\n",
       "      <td>19</td>\n",
       "      <td>40</td>\n",
       "      <td>39.225131</td>\n",
       "    </tr>\n",
       "    <tr>\n",
       "      <td>20</td>\n",
       "      <td>74</td>\n",
       "      <td>69.090068</td>\n",
       "    </tr>\n",
       "    <tr>\n",
       "      <td>21</td>\n",
       "      <td>37</td>\n",
       "      <td>19.060198</td>\n",
       "    </tr>\n",
       "    <tr>\n",
       "      <td>22</td>\n",
       "      <td>24</td>\n",
       "      <td>30.640936</td>\n",
       "    </tr>\n",
       "    <tr>\n",
       "      <td>23</td>\n",
       "      <td>26</td>\n",
       "      <td>25.378486</td>\n",
       "    </tr>\n",
       "    <tr>\n",
       "      <td>24</td>\n",
       "      <td>46</td>\n",
       "      <td>46.764162</td>\n",
       "    </tr>\n",
       "  </tbody>\n",
       "</table>\n",
       "</div>"
      ],
      "text/plain": [
       "     y       func\n",
       "0   37  41.133741\n",
       "1   34  30.828091\n",
       "2   21  21.580212\n",
       "3   59  30.013064\n",
       "4   72  60.005531\n",
       "5   19  25.065437\n",
       "6   63  34.845400\n",
       "7   33  42.774257\n",
       "8   61  58.963769\n",
       "9   26  35.331421\n",
       "10  49  51.129499\n",
       "11  48  38.229090\n",
       "12  72  68.074801\n",
       "13  56  50.941539\n",
       "14  29  45.169181\n",
       "15  14  35.915582\n",
       "16  57  81.254600\n",
       "17  43  40.399421\n",
       "18  40  32.624950\n",
       "19  40  39.225131\n",
       "20  74  69.090068\n",
       "21  37  19.060198\n",
       "22  24  30.640936\n",
       "23  26  25.378486\n",
       "24  46  46.764162"
      ]
     },
     "execution_count": 28603,
     "metadata": {},
     "output_type": "execute_result"
    }
   ],
   "source": [
    "dff = pd.DataFrame(data = d)\n",
    "dff"
   ]
  },
  {
   "cell_type": "code",
   "execution_count": 28604,
   "metadata": {},
   "outputs": [
    {
     "data": {
      "text/plain": [
       "<matplotlib.axes._subplots.AxesSubplot at 0x206426f01c8>"
      ]
     },
     "execution_count": 28604,
     "metadata": {},
     "output_type": "execute_result"
    },
    {
     "data": {
      "image/png": "[encoded data removed]",
      "text/plain": [
       "<Figure size 432x288 with 1 Axes>"
      ]
     },
     "metadata": {
      "needs_background": "light"
     },
     "output_type": "display_data"
    }
   ],
   "source": [
    "dff.plot()\n"
   ]
  },
  {
   "cell_type": "code",
   "execution_count": 28605,
   "metadata": {},
   "outputs": [],
   "source": [
    "xv1 = np.dot(F[15], A1)"
   ]
  },
  {
   "cell_type": "code",
   "execution_count": 28606,
   "metadata": {},
   "outputs": [
    {
     "data": {
      "text/plain": [
       "array([ 1.00000000e+00, -2.25079962e-15,  2.29739671e+00, -6.53643621e-01,\n",
       "       -9.56173153e-01,  8.28883197e-02])"
      ]
     },
     "execution_count": 28606,
     "metadata": {},
     "output_type": "execute_result"
    }
   ],
   "source": [
    "F[15].T"
   ]
  },
  {
   "cell_type": "code",
   "execution_count": 28607,
   "metadata": {},
   "outputs": [],
   "source": [
    "xv = np.dot(xv1, F[15].T)"
   ]
  },
  {
   "cell_type": "code",
   "execution_count": 28608,
   "metadata": {},
   "outputs": [
    {
     "data": {
      "text/plain": [
       "0.30944110850758405"
      ]
     },
     "execution_count": 28608,
     "metadata": {},
     "output_type": "execute_result"
    }
   ],
   "source": [
    "xv"
   ]
  },
  {
   "cell_type": "code",
   "execution_count": 28609,
   "metadata": {},
   "outputs": [
    {
     "data": {
      "text/plain": [
       "24"
      ]
     },
     "execution_count": 28609,
     "metadata": {},
     "output_type": "execute_result"
    }
   ],
   "source": [
    "x.size-1"
   ]
  },
  {
   "cell_type": "code",
   "execution_count": 28610,
   "metadata": {},
   "outputs": [
    {
     "data": {
      "text/plain": [
       "19"
      ]
     },
     "execution_count": 28610,
     "metadata": {},
     "output_type": "execute_result"
    }
   ],
   "source": [
    "x.size - B.size"
   ]
  },
  {
   "cell_type": "code",
   "execution_count": null,
   "metadata": {},
   "outputs": [],
   "source": []
  }
 ],
 "metadata": {
  "kernelspec": {
   "display_name": "Python 3",
   "language": "python",
   "name": "python3"
  },
  "language_info": {
   "codemirror_mode": {
    "name": "ipython",
    "version": 3
   },
   "file_extension": ".py",
   "mimetype": "text/x-python",
   "name": "python",
   "nbconvert_exporter": "python",
   "pygments_lexer": "ipython3",
   "version": "3.7.4"
  }
 },
 "nbformat": 4,
 "nbformat_minor": 2
}
