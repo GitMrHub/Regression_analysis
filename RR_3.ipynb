{
 "cells": [
  {
   "cell_type": "code",
   "execution_count": 498,
   "metadata": {},
   "outputs": [],
   "source": [
    "import pandas as pd\n",
    "import matplotlib.pyplot as plt\n",
    "import numpy as np\n",
    "from mpl_toolkits.mplot3d import Axes3D"
   ]
  },
  {
   "cell_type": "code",
   "execution_count": 499,
   "metadata": {
    "scrolled": true
   },
   "outputs": [
    {
     "data": {
      "text/html": [
       "<div>\n",
       "<style scoped>\n",
       "    .dataframe tbody tr th:only-of-type {\n",
       "        vertical-align: middle;\n",
       "    }\n",
       "\n",
       "    .dataframe tbody tr th {\n",
       "        vertical-align: top;\n",
       "    }\n",
       "\n",
       "    .dataframe thead th {\n",
       "        text-align: right;\n",
       "    }\n",
       "</style>\n",
       "<table border=\"1\" class=\"dataframe\">\n",
       "  <thead>\n",
       "    <tr style=\"text-align: right;\">\n",
       "      <th></th>\n",
       "      <th>X1</th>\n",
       "      <th>X2</th>\n",
       "      <th>X3</th>\n",
       "      <th>Y</th>\n",
       "    </tr>\n",
       "  </thead>\n",
       "  <tbody>\n",
       "    <tr>\n",
       "      <td>0</td>\n",
       "      <td>170.98</td>\n",
       "      <td>80.00</td>\n",
       "      <td>15</td>\n",
       "      <td>121.79</td>\n",
       "    </tr>\n",
       "    <tr>\n",
       "      <td>1</td>\n",
       "      <td>191.18</td>\n",
       "      <td>70.25</td>\n",
       "      <td>20</td>\n",
       "      <td>130.65</td>\n",
       "    </tr>\n",
       "    <tr>\n",
       "      <td>2</td>\n",
       "      <td>206.21</td>\n",
       "      <td>65.00</td>\n",
       "      <td>47</td>\n",
       "      <td>120.31</td>\n",
       "    </tr>\n",
       "    <tr>\n",
       "      <td>3</td>\n",
       "      <td>218.12</td>\n",
       "      <td>56.25</td>\n",
       "      <td>50</td>\n",
       "      <td>139.30</td>\n",
       "    </tr>\n",
       "    <tr>\n",
       "      <td>4</td>\n",
       "      <td>227.88</td>\n",
       "      <td>48.00</td>\n",
       "      <td>60</td>\n",
       "      <td>131.55</td>\n",
       "    </tr>\n",
       "    <tr>\n",
       "      <td>5</td>\n",
       "      <td>236.08</td>\n",
       "      <td>38.25</td>\n",
       "      <td>76</td>\n",
       "      <td>150.91</td>\n",
       "    </tr>\n",
       "    <tr>\n",
       "      <td>6</td>\n",
       "      <td>243.07</td>\n",
       "      <td>32.00</td>\n",
       "      <td>89</td>\n",
       "      <td>146.92</td>\n",
       "    </tr>\n",
       "    <tr>\n",
       "      <td>7</td>\n",
       "      <td>249.09</td>\n",
       "      <td>24.25</td>\n",
       "      <td>93</td>\n",
       "      <td>177.10</td>\n",
       "    </tr>\n",
       "    <tr>\n",
       "      <td>8</td>\n",
       "      <td>254.31</td>\n",
       "      <td>16.00</td>\n",
       "      <td>90</td>\n",
       "      <td>153.54</td>\n",
       "    </tr>\n",
       "    <tr>\n",
       "      <td>9</td>\n",
       "      <td>258.88</td>\n",
       "      <td>12.25</td>\n",
       "      <td>117</td>\n",
       "      <td>199.15</td>\n",
       "    </tr>\n",
       "    <tr>\n",
       "      <td>10</td>\n",
       "      <td>262.88</td>\n",
       "      <td>8.00</td>\n",
       "      <td>123</td>\n",
       "      <td>181.58</td>\n",
       "    </tr>\n",
       "    <tr>\n",
       "      <td>11</td>\n",
       "      <td>266.38</td>\n",
       "      <td>3.25</td>\n",
       "      <td>122</td>\n",
       "      <td>192.67</td>\n",
       "    </tr>\n",
       "    <tr>\n",
       "      <td>12</td>\n",
       "      <td>269.46</td>\n",
       "      <td>-4.00</td>\n",
       "      <td>143</td>\n",
       "      <td>185.07</td>\n",
       "    </tr>\n",
       "    <tr>\n",
       "      <td>13</td>\n",
       "      <td>272.17</td>\n",
       "      <td>-5.75</td>\n",
       "      <td>140</td>\n",
       "      <td>204.61</td>\n",
       "    </tr>\n",
       "    <tr>\n",
       "      <td>14</td>\n",
       "      <td>274.53</td>\n",
       "      <td>-10.00</td>\n",
       "      <td>160</td>\n",
       "      <td>201.28</td>\n",
       "    </tr>\n",
       "    <tr>\n",
       "      <td>15</td>\n",
       "      <td>276.60</td>\n",
       "      <td>-3.00</td>\n",
       "      <td>167</td>\n",
       "      <td>220.73</td>\n",
       "    </tr>\n",
       "    <tr>\n",
       "      <td>16</td>\n",
       "      <td>278.39</td>\n",
       "      <td>-3.00</td>\n",
       "      <td>189</td>\n",
       "      <td>204.38</td>\n",
       "    </tr>\n",
       "    <tr>\n",
       "      <td>17</td>\n",
       "      <td>279.93</td>\n",
       "      <td>3.00</td>\n",
       "      <td>195</td>\n",
       "      <td>224.96</td>\n",
       "    </tr>\n",
       "    <tr>\n",
       "      <td>18</td>\n",
       "      <td>281.24</td>\n",
       "      <td>4.00</td>\n",
       "      <td>194</td>\n",
       "      <td>210.81</td>\n",
       "    </tr>\n",
       "    <tr>\n",
       "      <td>19</td>\n",
       "      <td>282.35</td>\n",
       "      <td>12.00</td>\n",
       "      <td>207</td>\n",
       "      <td>218.87</td>\n",
       "    </tr>\n",
       "    <tr>\n",
       "      <td>20</td>\n",
       "      <td>283.26</td>\n",
       "      <td>18.00</td>\n",
       "      <td>210</td>\n",
       "      <td>208.44</td>\n",
       "    </tr>\n",
       "    <tr>\n",
       "      <td>21</td>\n",
       "      <td>284.00</td>\n",
       "      <td>25.00</td>\n",
       "      <td>230</td>\n",
       "      <td>221.58</td>\n",
       "    </tr>\n",
       "    <tr>\n",
       "      <td>22</td>\n",
       "      <td>284.57</td>\n",
       "      <td>26.00</td>\n",
       "      <td>237</td>\n",
       "      <td>212.63</td>\n",
       "    </tr>\n",
       "    <tr>\n",
       "      <td>23</td>\n",
       "      <td>284.99</td>\n",
       "      <td>27.00</td>\n",
       "      <td>248</td>\n",
       "      <td>230.88</td>\n",
       "    </tr>\n",
       "    <tr>\n",
       "      <td>24</td>\n",
       "      <td>285.27</td>\n",
       "      <td>30.00</td>\n",
       "      <td>265</td>\n",
       "      <td>215.90</td>\n",
       "    </tr>\n",
       "    <tr>\n",
       "      <td>25</td>\n",
       "      <td>285.41</td>\n",
       "      <td>30.00</td>\n",
       "      <td>276</td>\n",
       "      <td>210.18</td>\n",
       "    </tr>\n",
       "    <tr>\n",
       "      <td>26</td>\n",
       "      <td>285.43</td>\n",
       "      <td>30.00</td>\n",
       "      <td>285</td>\n",
       "      <td>200.86</td>\n",
       "    </tr>\n",
       "    <tr>\n",
       "      <td>27</td>\n",
       "      <td>285.32</td>\n",
       "      <td>33.00</td>\n",
       "      <td>287</td>\n",
       "      <td>214.66</td>\n",
       "    </tr>\n",
       "    <tr>\n",
       "      <td>28</td>\n",
       "      <td>285.11</td>\n",
       "      <td>34.00</td>\n",
       "      <td>293</td>\n",
       "      <td>197.06</td>\n",
       "    </tr>\n",
       "    <tr>\n",
       "      <td>29</td>\n",
       "      <td>284.79</td>\n",
       "      <td>43.00</td>\n",
       "      <td>304</td>\n",
       "      <td>219.19</td>\n",
       "    </tr>\n",
       "  </tbody>\n",
       "</table>\n",
       "</div>"
      ],
      "text/plain": [
       "        X1     X2   X3       Y\n",
       "0   170.98  80.00   15  121.79\n",
       "1   191.18  70.25   20  130.65\n",
       "2   206.21  65.00   47  120.31\n",
       "3   218.12  56.25   50  139.30\n",
       "4   227.88  48.00   60  131.55\n",
       "5   236.08  38.25   76  150.91\n",
       "6   243.07  32.00   89  146.92\n",
       "7   249.09  24.25   93  177.10\n",
       "8   254.31  16.00   90  153.54\n",
       "9   258.88  12.25  117  199.15\n",
       "10  262.88   8.00  123  181.58\n",
       "11  266.38   3.25  122  192.67\n",
       "12  269.46  -4.00  143  185.07\n",
       "13  272.17  -5.75  140  204.61\n",
       "14  274.53 -10.00  160  201.28\n",
       "15  276.60  -3.00  167  220.73\n",
       "16  278.39  -3.00  189  204.38\n",
       "17  279.93   3.00  195  224.96\n",
       "18  281.24   4.00  194  210.81\n",
       "19  282.35  12.00  207  218.87\n",
       "20  283.26  18.00  210  208.44\n",
       "21  284.00  25.00  230  221.58\n",
       "22  284.57  26.00  237  212.63\n",
       "23  284.99  27.00  248  230.88\n",
       "24  285.27  30.00  265  215.90\n",
       "25  285.41  30.00  276  210.18\n",
       "26  285.43  30.00  285  200.86\n",
       "27  285.32  33.00  287  214.66\n",
       "28  285.11  34.00  293  197.06\n",
       "29  284.79  43.00  304  219.19"
      ]
     },
     "execution_count": 499,
     "metadata": {},
     "output_type": "execute_result"
    }
   ],
   "source": [
    "df = pd.read_excel(\"third.xlsx\")\n",
    "df"
   ]
  },
  {
   "cell_type": "code",
   "execution_count": 500,
   "metadata": {},
   "outputs": [],
   "source": [
    "x1 = np.array(df[\"X1\"])\n",
    "x2 = np.array(df[\"X2\"])\n",
    "x3 = np.array(df['X3'])\n",
    "y = np.array(df[\"Y\"])"
   ]
  },
  {
   "cell_type": "code",
   "execution_count": 501,
   "metadata": {},
   "outputs": [
    {
     "data": {
      "image/png": "[encoded data removed]",
      "text/plain": [
       "<Figure size 432x288 with 1 Axes>"
      ]
     },
     "metadata": {
      "needs_background": "light"
     },
     "output_type": "display_data"
    }
   ],
   "source": [
    "fig = plt.figure()\n",
    "ax = fig.add_subplot(111, projection='3d')\n",
    "\n",
    "x1 = np.array(df[\"X1\"])\n",
    "x2 = np.array(df[\"X2\"])\n",
    "x3 = np.array(df['X3'])\n",
    "y = np.array(df[\"Y\"])\n",
    "\n",
    "img = ax.scatter(x2, x3, x1, y, s =100, c = 'red')\n",
    "#fig.colorbar(img)\n",
    "ax.set_xlabel('X2')\n",
    "ax.set_ylabel('X3')\n",
    "ax.set_zlabel('X1')\n",
    "plt.show()"
   ]
  },
  {
   "cell_type": "code",
   "execution_count": 502,
   "metadata": {},
   "outputs": [
    {
     "data": {
      "text/plain": [
       "array([170.98, 191.18, 206.21, 218.12, 227.88, 236.08, 243.07, 249.09,\n",
       "       254.31, 258.88, 262.88, 266.38, 269.46, 272.17, 274.53, 276.6 ,\n",
       "       278.39, 279.93, 281.24, 282.35, 283.26, 284.  , 284.57, 284.99,\n",
       "       285.27, 285.41, 285.43, 285.32, 285.11, 284.79])"
      ]
     },
     "execution_count": 502,
     "metadata": {},
     "output_type": "execute_result"
    }
   ],
   "source": [
    "x1"
   ]
  },
  {
   "cell_type": "code",
   "execution_count": 503,
   "metadata": {},
   "outputs": [
    {
     "data": {
      "text/plain": [
       "array([ 80.  ,  70.25,  65.  ,  56.25,  48.  ,  38.25,  32.  ,  24.25,\n",
       "        16.  ,  12.25,   8.  ,   3.25,  -4.  ,  -5.75, -10.  ,  -3.  ,\n",
       "        -3.  ,   3.  ,   4.  ,  12.  ,  18.  ,  25.  ,  26.  ,  27.  ,\n",
       "        30.  ,  30.  ,  30.  ,  33.  ,  34.  ,  43.  ])"
      ]
     },
     "execution_count": 503,
     "metadata": {},
     "output_type": "execute_result"
    }
   ],
   "source": [
    "x2"
   ]
  },
  {
   "cell_type": "code",
   "execution_count": 504,
   "metadata": {},
   "outputs": [
    {
     "data": {
      "text/plain": [
       "array([ 15,  20,  47,  50,  60,  76,  89,  93,  90, 117, 123, 122, 143,\n",
       "       140, 160, 167, 189, 195, 194, 207, 210, 230, 237, 248, 265, 276,\n",
       "       285, 287, 293, 304], dtype=int64)"
      ]
     },
     "execution_count": 504,
     "metadata": {},
     "output_type": "execute_result"
    }
   ],
   "source": [
    "x3"
   ]
  },
  {
   "cell_type": "code",
   "execution_count": 505,
   "metadata": {},
   "outputs": [
    {
     "data": {
      "text/plain": [
       "array([121.79, 130.65, 120.31, 139.3 , 131.55, 150.91, 146.92, 177.1 ,\n",
       "       153.54, 199.15, 181.58, 192.67, 185.07, 204.61, 201.28, 220.73,\n",
       "       204.38, 224.96, 210.81, 218.87, 208.44, 221.58, 212.63, 230.88,\n",
       "       215.9 , 210.18, 200.86, 214.66, 197.06, 219.19])"
      ]
     },
     "execution_count": 505,
     "metadata": {},
     "output_type": "execute_result"
    }
   ],
   "source": [
    "y\n"
   ]
  },
  {
   "cell_type": "code",
   "execution_count": 506,
   "metadata": {},
   "outputs": [
    {
     "data": {
      "text/plain": [
       "[[1, 6400.0]]"
      ]
     },
     "execution_count": 506,
     "metadata": {},
     "output_type": "execute_result"
    }
   ],
   "source": [
    "F = [[1, x2[0]**2]]\n",
    "F"
   ]
  },
  {
   "cell_type": "code",
   "execution_count": 507,
   "metadata": {},
   "outputs": [],
   "source": [
    "for i in range(1, x1.size):\n",
    "    F.append([1, x2[i]**2])"
   ]
  },
  {
   "cell_type": "code",
   "execution_count": 508,
   "metadata": {},
   "outputs": [
    {
     "data": {
      "text/plain": [
       "array([[1.0000000e+00, 6.4000000e+03],\n",
       "       [1.0000000e+00, 4.9350625e+03],\n",
       "       [1.0000000e+00, 4.2250000e+03],\n",
       "       [1.0000000e+00, 3.1640625e+03],\n",
       "       [1.0000000e+00, 2.3040000e+03],\n",
       "       [1.0000000e+00, 1.4630625e+03],\n",
       "       [1.0000000e+00, 1.0240000e+03],\n",
       "       [1.0000000e+00, 5.8806250e+02],\n",
       "       [1.0000000e+00, 2.5600000e+02],\n",
       "       [1.0000000e+00, 1.5006250e+02],\n",
       "       [1.0000000e+00, 6.4000000e+01],\n",
       "       [1.0000000e+00, 1.0562500e+01],\n",
       "       [1.0000000e+00, 1.6000000e+01],\n",
       "       [1.0000000e+00, 3.3062500e+01],\n",
       "       [1.0000000e+00, 1.0000000e+02],\n",
       "       [1.0000000e+00, 9.0000000e+00],\n",
       "       [1.0000000e+00, 9.0000000e+00],\n",
       "       [1.0000000e+00, 9.0000000e+00],\n",
       "       [1.0000000e+00, 1.6000000e+01],\n",
       "       [1.0000000e+00, 1.4400000e+02],\n",
       "       [1.0000000e+00, 3.2400000e+02],\n",
       "       [1.0000000e+00, 6.2500000e+02],\n",
       "       [1.0000000e+00, 6.7600000e+02],\n",
       "       [1.0000000e+00, 7.2900000e+02],\n",
       "       [1.0000000e+00, 9.0000000e+02],\n",
       "       [1.0000000e+00, 9.0000000e+02],\n",
       "       [1.0000000e+00, 9.0000000e+02],\n",
       "       [1.0000000e+00, 1.0890000e+03],\n",
       "       [1.0000000e+00, 1.1560000e+03],\n",
       "       [1.0000000e+00, 1.8490000e+03]])"
      ]
     },
     "execution_count": 508,
     "metadata": {},
     "output_type": "execute_result"
    }
   ],
   "source": [
    "F = np.array(F)\n",
    "F"
   ]
  },
  {
   "cell_type": "code",
   "execution_count": 509,
   "metadata": {},
   "outputs": [
    {
     "data": {
      "text/plain": [
       "(30, 2)"
      ]
     },
     "execution_count": 509,
     "metadata": {},
     "output_type": "execute_result"
    }
   ],
   "source": [
    "np.shape(F)"
   ]
  },
  {
   "cell_type": "code",
   "execution_count": 510,
   "metadata": {},
   "outputs": [
    {
     "data": {
      "text/plain": [
       "array([[1.0000000e+00, 1.0000000e+00, 1.0000000e+00, 1.0000000e+00,\n",
       "        1.0000000e+00, 1.0000000e+00, 1.0000000e+00, 1.0000000e+00,\n",
       "        1.0000000e+00, 1.0000000e+00, 1.0000000e+00, 1.0000000e+00,\n",
       "        1.0000000e+00, 1.0000000e+00, 1.0000000e+00, 1.0000000e+00,\n",
       "        1.0000000e+00, 1.0000000e+00, 1.0000000e+00, 1.0000000e+00,\n",
       "        1.0000000e+00, 1.0000000e+00, 1.0000000e+00, 1.0000000e+00,\n",
       "        1.0000000e+00, 1.0000000e+00, 1.0000000e+00, 1.0000000e+00,\n",
       "        1.0000000e+00, 1.0000000e+00],\n",
       "       [6.4000000e+03, 4.9350625e+03, 4.2250000e+03, 3.1640625e+03,\n",
       "        2.3040000e+03, 1.4630625e+03, 1.0240000e+03, 5.8806250e+02,\n",
       "        2.5600000e+02, 1.5006250e+02, 6.4000000e+01, 1.0562500e+01,\n",
       "        1.6000000e+01, 3.3062500e+01, 1.0000000e+02, 9.0000000e+00,\n",
       "        9.0000000e+00, 9.0000000e+00, 1.6000000e+01, 1.4400000e+02,\n",
       "        3.2400000e+02, 6.2500000e+02, 6.7600000e+02, 7.2900000e+02,\n",
       "        9.0000000e+02, 9.0000000e+02, 9.0000000e+02, 1.0890000e+03,\n",
       "        1.1560000e+03, 1.8490000e+03]])"
      ]
     },
     "execution_count": 510,
     "metadata": {},
     "output_type": "execute_result"
    }
   ],
   "source": [
    "Ft = F.T\n",
    "Ft"
   ]
  },
  {
   "cell_type": "code",
   "execution_count": 511,
   "metadata": {},
   "outputs": [
    {
     "data": {
      "text/plain": [
       "(2, 30)"
      ]
     },
     "execution_count": 511,
     "metadata": {},
     "output_type": "execute_result"
    }
   ],
   "source": [
    "np.shape(Ft)"
   ]
  },
  {
   "cell_type": "code",
   "execution_count": 512,
   "metadata": {},
   "outputs": [
    {
     "name": "stdout",
     "output_type": "stream",
     "text": [
      "A = F^t F = \n",
      " [[3.00000000e+01 3.40679375e+04]\n",
      " [3.40679375e+04 1.12000042e+08]]\n"
     ]
    }
   ],
   "source": [
    "A = np.dot(Ft, F)\n",
    "print(\"A = F^t F = \\n\", A)"
   ]
  },
  {
   "cell_type": "code",
   "execution_count": 513,
   "metadata": {},
   "outputs": [
    {
     "name": "stdout",
     "output_type": "stream",
     "text": [
      "Відповідно A^-1 = \n",
      " [[ 5.09235330e-02 -1.54898133e-05]\n",
      " [-1.54898133e-05  1.36402269e-08]]\n"
     ]
    }
   ],
   "source": [
    "A1 = np.linalg.inv(A) \n",
    "print('Відповідно A^-1 = \\n', A1)"
   ]
  },
  {
   "cell_type": "code",
   "execution_count": 514,
   "metadata": {},
   "outputs": [
    {
     "data": {
      "text/plain": [
       "array([121.79, 130.65, 120.31, 139.3 , 131.55, 150.91, 146.92, 177.1 ,\n",
       "       153.54, 199.15, 181.58, 192.67, 185.07, 204.61, 201.28, 220.73,\n",
       "       204.38, 224.96, 210.81, 218.87, 208.44, 221.58, 212.63, 230.88,\n",
       "       215.9 , 210.18, 200.86, 214.66, 197.06, 219.19])"
      ]
     },
     "execution_count": 514,
     "metadata": {},
     "output_type": "execute_result"
    }
   ],
   "source": [
    "y"
   ]
  },
  {
   "cell_type": "code",
   "execution_count": 515,
   "metadata": {},
   "outputs": [
    {
     "data": {
      "text/plain": [
       "(30,)"
      ]
     },
     "execution_count": 515,
     "metadata": {},
     "output_type": "execute_result"
    }
   ],
   "source": [
    "np.shape(y.T)"
   ]
  },
  {
   "cell_type": "code",
   "execution_count": 516,
   "metadata": {},
   "outputs": [
    {
     "data": {
      "text/plain": [
       "array([ 2.06204534e+02, -1.58088829e-02])"
      ]
     },
     "execution_count": 516,
     "metadata": {},
     "output_type": "execute_result"
    }
   ],
   "source": [
    "b = np.dot(A1, Ft)\n",
    "B = np.dot(b, y)\n",
    "B"
   ]
  },
  {
   "cell_type": "code",
   "execution_count": 517,
   "metadata": {},
   "outputs": [
    {
     "data": {
      "text/plain": [
       "188.25199999999998"
      ]
     },
     "execution_count": 517,
     "metadata": {},
     "output_type": "execute_result"
    }
   ],
   "source": [
    "y_n = y.sum()/x1.size\n",
    "y_n"
   ]
  },
  {
   "cell_type": "code",
   "execution_count": 518,
   "metadata": {},
   "outputs": [
    {
     "data": {
      "text/plain": [
       "1179.3041337931033"
      ]
     },
     "execution_count": 518,
     "metadata": {},
     "output_type": "execute_result"
    }
   ],
   "source": [
    "summ = 0\n",
    "for i in y:\n",
    "    summ += (i - y_n)**2\n",
    "D = summ/(x1.size-1)\n",
    "D"
   ]
  },
  {
   "cell_type": "code",
   "execution_count": 519,
   "metadata": {},
   "outputs": [
    {
     "data": {
      "text/plain": [
       "567.0531098565641"
      ]
     },
     "execution_count": 519,
     "metadata": {},
     "output_type": "execute_result"
    }
   ],
   "source": [
    "summa = 0\n",
    "for j in range(0, x1.size):\n",
    "    summa += (y[j] - (B[0]  + B[1]*x2[j]**2) )**2\n",
    "G = summa/(x1.size- B.size)\n",
    "G"
   ]
  },
  {
   "cell_type": "code",
   "execution_count": 520,
   "metadata": {},
   "outputs": [
    {
     "data": {
      "text/plain": [
       "34199.819879999995"
      ]
     },
     "execution_count": 520,
     "metadata": {},
     "output_type": "execute_result"
    }
   ],
   "source": [
    "summ2 = 0\n",
    "for i in y:\n",
    "    summ2 += (i - y_n)**2\n",
    "summ2"
   ]
  },
  {
   "cell_type": "code",
   "execution_count": 521,
   "metadata": {},
   "outputs": [
    {
     "data": {
      "text/plain": [
       "15877.487075983794"
      ]
     },
     "execution_count": 521,
     "metadata": {},
     "output_type": "execute_result"
    }
   ],
   "source": [
    "s1 = y - np.dot(F, B)\n",
    "s = np.dot(s1.T, s1)\n",
    "s"
   ]
  },
  {
   "cell_type": "code",
   "execution_count": 522,
   "metadata": {},
   "outputs": [
    {
     "data": {
      "text/plain": [
       "2.1539819063515706"
      ]
     },
     "execution_count": 522,
     "metadata": {},
     "output_type": "execute_result"
    }
   ],
   "source": [
    "z = summ2/s\n",
    "z"
   ]
  },
  {
   "cell_type": "code",
   "execution_count": 523,
   "metadata": {},
   "outputs": [
    {
     "data": {
      "text/plain": [
       "2.1539819063515706"
      ]
     },
     "execution_count": 523,
     "metadata": {},
     "output_type": "execute_result"
    }
   ],
   "source": [
    "zz = summ2/summa\n",
    "zz"
   ]
  },
  {
   "cell_type": "code",
   "execution_count": 524,
   "metadata": {},
   "outputs": [
    {
     "data": {
      "text/plain": [
       "2.079706668201516"
      ]
     },
     "execution_count": 524,
     "metadata": {},
     "output_type": "execute_result"
    }
   ],
   "source": [
    "zz*(x1.size-B.size)/(x1.size-1)"
   ]
  },
  {
   "cell_type": "code",
   "execution_count": 525,
   "metadata": {},
   "outputs": [
    {
     "data": {
      "text/plain": [
       "array([1., 9.])"
      ]
     },
     "execution_count": 525,
     "metadata": {},
     "output_type": "execute_result"
    }
   ],
   "source": [
    "F[15]"
   ]
  },
  {
   "cell_type": "code",
   "execution_count": 526,
   "metadata": {},
   "outputs": [],
   "source": [
    "x11 = np.dot(F[15], A1)"
   ]
  },
  {
   "cell_type": "code",
   "execution_count": 527,
   "metadata": {},
   "outputs": [
    {
     "data": {
      "text/plain": [
       "0.050645821228805975"
      ]
     },
     "execution_count": 527,
     "metadata": {},
     "output_type": "execute_result"
    }
   ],
   "source": [
    "x111 = np.dot(x11, F[15])\n",
    "x111"
   ]
  }
 ],
 "metadata": {
  "kernelspec": {
   "display_name": "Python 3",
   "language": "python",
   "name": "python3"
  },
  "language_info": {
   "codemirror_mode": {
    "name": "ipython",
    "version": 3
   },
   "file_extension": ".py",
   "mimetype": "text/x-python",
   "name": "python",
   "nbconvert_exporter": "python",
   "pygments_lexer": "ipython3",
   "version": "3.7.4"
  }
 },
 "nbformat": 4,
 "nbformat_minor": 2
}
